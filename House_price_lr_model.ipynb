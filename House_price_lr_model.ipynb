{
 "cells": [
  {
   "cell_type": "markdown",
   "id": "southern-deputy",
   "metadata": {},
   "source": [
    "<h1><font color=\"red\">House Price Prediction Model </font></h1>"
   ]
  },
  {
   "cell_type": "markdown",
   "id": "appreciated-virginia",
   "metadata": {},
   "source": [
    "# Import of librares"
   ]
  },
  {
   "cell_type": "code",
   "execution_count": 1,
   "id": "dress-isaac",
   "metadata": {},
   "outputs": [],
   "source": [
    "import pandas as pd\n",
    "import matplotlib.pyplot as plt\n",
    "import numpy as np\n",
    "from sklearn.model_selection import  train_test_split\n",
    "from sklearn import preprocessing\n",
    "from sklearn import linear_model\n",
    "from sklearn.metrics import r2_score,mean_squared_error\n",
    "import seaborn as sns"
   ]
  },
  {
   "cell_type": "markdown",
   "id": "guilty-accuracy",
   "metadata": {},
   "source": [
    "# Load of Data"
   ]
  },
  {
   "cell_type": "code",
   "execution_count": 2,
   "id": "adaptive-inside",
   "metadata": {},
   "outputs": [
    {
     "data": {
      "text/html": [
       "<div>\n",
       "<style scoped>\n",
       "    .dataframe tbody tr th:only-of-type {\n",
       "        vertical-align: middle;\n",
       "    }\n",
       "\n",
       "    .dataframe tbody tr th {\n",
       "        vertical-align: top;\n",
       "    }\n",
       "\n",
       "    .dataframe thead th {\n",
       "        text-align: right;\n",
       "    }\n",
       "</style>\n",
       "<table border=\"1\" class=\"dataframe\">\n",
       "  <thead>\n",
       "    <tr style=\"text-align: right;\">\n",
       "      <th></th>\n",
       "      <th>Area</th>\n",
       "      <th>Garage</th>\n",
       "      <th>FirePlace</th>\n",
       "      <th>Baths</th>\n",
       "      <th>White Marble</th>\n",
       "      <th>Black Marble</th>\n",
       "      <th>Indian Marble</th>\n",
       "      <th>Floors</th>\n",
       "      <th>City</th>\n",
       "      <th>Solar</th>\n",
       "      <th>Electric</th>\n",
       "      <th>Fiber</th>\n",
       "      <th>Glass Doors</th>\n",
       "      <th>Swiming Pool</th>\n",
       "      <th>Garden</th>\n",
       "      <th>Prices</th>\n",
       "    </tr>\n",
       "  </thead>\n",
       "  <tbody>\n",
       "    <tr>\n",
       "      <th>0</th>\n",
       "      <td>164</td>\n",
       "      <td>2</td>\n",
       "      <td>0</td>\n",
       "      <td>2</td>\n",
       "      <td>0</td>\n",
       "      <td>1</td>\n",
       "      <td>0</td>\n",
       "      <td>0</td>\n",
       "      <td>3</td>\n",
       "      <td>1</td>\n",
       "      <td>1</td>\n",
       "      <td>1</td>\n",
       "      <td>1</td>\n",
       "      <td>0</td>\n",
       "      <td>0</td>\n",
       "      <td>43800</td>\n",
       "    </tr>\n",
       "    <tr>\n",
       "      <th>1</th>\n",
       "      <td>84</td>\n",
       "      <td>2</td>\n",
       "      <td>0</td>\n",
       "      <td>4</td>\n",
       "      <td>0</td>\n",
       "      <td>0</td>\n",
       "      <td>1</td>\n",
       "      <td>1</td>\n",
       "      <td>2</td>\n",
       "      <td>0</td>\n",
       "      <td>0</td>\n",
       "      <td>0</td>\n",
       "      <td>1</td>\n",
       "      <td>1</td>\n",
       "      <td>1</td>\n",
       "      <td>37550</td>\n",
       "    </tr>\n",
       "    <tr>\n",
       "      <th>2</th>\n",
       "      <td>190</td>\n",
       "      <td>2</td>\n",
       "      <td>4</td>\n",
       "      <td>4</td>\n",
       "      <td>1</td>\n",
       "      <td>0</td>\n",
       "      <td>0</td>\n",
       "      <td>0</td>\n",
       "      <td>2</td>\n",
       "      <td>0</td>\n",
       "      <td>0</td>\n",
       "      <td>1</td>\n",
       "      <td>0</td>\n",
       "      <td>0</td>\n",
       "      <td>0</td>\n",
       "      <td>49500</td>\n",
       "    </tr>\n",
       "    <tr>\n",
       "      <th>3</th>\n",
       "      <td>75</td>\n",
       "      <td>2</td>\n",
       "      <td>4</td>\n",
       "      <td>4</td>\n",
       "      <td>0</td>\n",
       "      <td>0</td>\n",
       "      <td>1</td>\n",
       "      <td>1</td>\n",
       "      <td>1</td>\n",
       "      <td>1</td>\n",
       "      <td>1</td>\n",
       "      <td>1</td>\n",
       "      <td>1</td>\n",
       "      <td>1</td>\n",
       "      <td>1</td>\n",
       "      <td>50075</td>\n",
       "    </tr>\n",
       "    <tr>\n",
       "      <th>4</th>\n",
       "      <td>148</td>\n",
       "      <td>1</td>\n",
       "      <td>4</td>\n",
       "      <td>2</td>\n",
       "      <td>1</td>\n",
       "      <td>0</td>\n",
       "      <td>0</td>\n",
       "      <td>1</td>\n",
       "      <td>2</td>\n",
       "      <td>1</td>\n",
       "      <td>0</td>\n",
       "      <td>0</td>\n",
       "      <td>1</td>\n",
       "      <td>1</td>\n",
       "      <td>1</td>\n",
       "      <td>52400</td>\n",
       "    </tr>\n",
       "  </tbody>\n",
       "</table>\n",
       "</div>"
      ],
      "text/plain": [
       "   Area  Garage  FirePlace  Baths  White Marble  Black Marble  Indian Marble  \\\n",
       "0   164       2          0      2             0             1              0   \n",
       "1    84       2          0      4             0             0              1   \n",
       "2   190       2          4      4             1             0              0   \n",
       "3    75       2          4      4             0             0              1   \n",
       "4   148       1          4      2             1             0              0   \n",
       "\n",
       "   Floors  City  Solar  Electric  Fiber  Glass Doors  Swiming Pool  Garden  \\\n",
       "0       0     3      1         1      1            1             0       0   \n",
       "1       1     2      0         0      0            1             1       1   \n",
       "2       0     2      0         0      1            0             0       0   \n",
       "3       1     1      1         1      1            1             1       1   \n",
       "4       1     2      1         0      0            1             1       1   \n",
       "\n",
       "   Prices  \n",
       "0   43800  \n",
       "1   37550  \n",
       "2   49500  \n",
       "3   50075  \n",
       "4   52400  "
      ]
     },
     "execution_count": 2,
     "metadata": {},
     "output_type": "execute_result"
    }
   ],
   "source": [
    "data=pd.read_csv('HousePrices_HalfMil.csv')\n",
    "data.head()"
   ]
  },
  {
   "cell_type": "markdown",
   "id": "continued-machinery",
   "metadata": {},
   "source": [
    "# seeing colums(featurs and target of data)"
   ]
  },
  {
   "cell_type": "code",
   "execution_count": 3,
   "id": "shared-reservoir",
   "metadata": {},
   "outputs": [
    {
     "data": {
      "text/plain": [
       "Index(['Area', 'Garage', 'FirePlace', 'Baths', 'White Marble', 'Black Marble',\n",
       "       'Indian Marble', 'Floors', 'City', 'Solar', 'Electric', 'Fiber',\n",
       "       'Glass Doors', 'Swiming Pool', 'Garden', 'Prices'],\n",
       "      dtype='object')"
      ]
     },
     "execution_count": 3,
     "metadata": {},
     "output_type": "execute_result"
    }
   ],
   "source": [
    "data.columns\n"
   ]
  },
  {
   "cell_type": "markdown",
   "id": "analyzed-classics",
   "metadata": {},
   "source": [
    "# data description \n",
    "<p> counting total values of featurs and targests , their mean , maximum value , minimum value, 25% and 75% values </p>"
   ]
  },
  {
   "cell_type": "code",
   "execution_count": 4,
   "id": "stable-sacramento",
   "metadata": {},
   "outputs": [
    {
     "data": {
      "text/html": [
       "<div>\n",
       "<style scoped>\n",
       "    .dataframe tbody tr th:only-of-type {\n",
       "        vertical-align: middle;\n",
       "    }\n",
       "\n",
       "    .dataframe tbody tr th {\n",
       "        vertical-align: top;\n",
       "    }\n",
       "\n",
       "    .dataframe thead th {\n",
       "        text-align: right;\n",
       "    }\n",
       "</style>\n",
       "<table border=\"1\" class=\"dataframe\">\n",
       "  <thead>\n",
       "    <tr style=\"text-align: right;\">\n",
       "      <th></th>\n",
       "      <th>Area</th>\n",
       "      <th>Garage</th>\n",
       "      <th>FirePlace</th>\n",
       "      <th>Baths</th>\n",
       "      <th>White Marble</th>\n",
       "      <th>Black Marble</th>\n",
       "      <th>Indian Marble</th>\n",
       "      <th>Floors</th>\n",
       "      <th>City</th>\n",
       "      <th>Solar</th>\n",
       "      <th>Electric</th>\n",
       "      <th>Fiber</th>\n",
       "      <th>Glass Doors</th>\n",
       "      <th>Swiming Pool</th>\n",
       "      <th>Garden</th>\n",
       "      <th>Prices</th>\n",
       "    </tr>\n",
       "  </thead>\n",
       "  <tbody>\n",
       "    <tr>\n",
       "      <th>count</th>\n",
       "      <td>500000.000000</td>\n",
       "      <td>500000.000000</td>\n",
       "      <td>500000.000000</td>\n",
       "      <td>500000.000000</td>\n",
       "      <td>500000.000000</td>\n",
       "      <td>500000.000000</td>\n",
       "      <td>500000.000000</td>\n",
       "      <td>500000.000000</td>\n",
       "      <td>500000.000000</td>\n",
       "      <td>500000.000000</td>\n",
       "      <td>500000.00000</td>\n",
       "      <td>500000.000000</td>\n",
       "      <td>500000.00000</td>\n",
       "      <td>500000.000000</td>\n",
       "      <td>500000.000000</td>\n",
       "      <td>500000.000000</td>\n",
       "    </tr>\n",
       "    <tr>\n",
       "      <th>mean</th>\n",
       "      <td>124.929554</td>\n",
       "      <td>2.001290</td>\n",
       "      <td>2.003398</td>\n",
       "      <td>2.998074</td>\n",
       "      <td>0.332992</td>\n",
       "      <td>0.332690</td>\n",
       "      <td>0.334318</td>\n",
       "      <td>0.499386</td>\n",
       "      <td>2.000940</td>\n",
       "      <td>0.498694</td>\n",
       "      <td>0.50065</td>\n",
       "      <td>0.500468</td>\n",
       "      <td>0.49987</td>\n",
       "      <td>0.500436</td>\n",
       "      <td>0.501646</td>\n",
       "      <td>42050.139350</td>\n",
       "    </tr>\n",
       "    <tr>\n",
       "      <th>std</th>\n",
       "      <td>71.795363</td>\n",
       "      <td>0.817005</td>\n",
       "      <td>1.414021</td>\n",
       "      <td>1.414227</td>\n",
       "      <td>0.471284</td>\n",
       "      <td>0.471177</td>\n",
       "      <td>0.471752</td>\n",
       "      <td>0.500000</td>\n",
       "      <td>0.816209</td>\n",
       "      <td>0.499999</td>\n",
       "      <td>0.50000</td>\n",
       "      <td>0.500000</td>\n",
       "      <td>0.50000</td>\n",
       "      <td>0.500000</td>\n",
       "      <td>0.499998</td>\n",
       "      <td>12110.237201</td>\n",
       "    </tr>\n",
       "    <tr>\n",
       "      <th>min</th>\n",
       "      <td>1.000000</td>\n",
       "      <td>1.000000</td>\n",
       "      <td>0.000000</td>\n",
       "      <td>1.000000</td>\n",
       "      <td>0.000000</td>\n",
       "      <td>0.000000</td>\n",
       "      <td>0.000000</td>\n",
       "      <td>0.000000</td>\n",
       "      <td>1.000000</td>\n",
       "      <td>0.000000</td>\n",
       "      <td>0.00000</td>\n",
       "      <td>0.000000</td>\n",
       "      <td>0.00000</td>\n",
       "      <td>0.000000</td>\n",
       "      <td>0.000000</td>\n",
       "      <td>7725.000000</td>\n",
       "    </tr>\n",
       "    <tr>\n",
       "      <th>25%</th>\n",
       "      <td>63.000000</td>\n",
       "      <td>1.000000</td>\n",
       "      <td>1.000000</td>\n",
       "      <td>2.000000</td>\n",
       "      <td>0.000000</td>\n",
       "      <td>0.000000</td>\n",
       "      <td>0.000000</td>\n",
       "      <td>0.000000</td>\n",
       "      <td>1.000000</td>\n",
       "      <td>0.000000</td>\n",
       "      <td>0.00000</td>\n",
       "      <td>0.000000</td>\n",
       "      <td>0.00000</td>\n",
       "      <td>0.000000</td>\n",
       "      <td>0.000000</td>\n",
       "      <td>33500.000000</td>\n",
       "    </tr>\n",
       "    <tr>\n",
       "      <th>50%</th>\n",
       "      <td>125.000000</td>\n",
       "      <td>2.000000</td>\n",
       "      <td>2.000000</td>\n",
       "      <td>3.000000</td>\n",
       "      <td>0.000000</td>\n",
       "      <td>0.000000</td>\n",
       "      <td>0.000000</td>\n",
       "      <td>0.000000</td>\n",
       "      <td>2.000000</td>\n",
       "      <td>0.000000</td>\n",
       "      <td>1.00000</td>\n",
       "      <td>1.000000</td>\n",
       "      <td>0.00000</td>\n",
       "      <td>1.000000</td>\n",
       "      <td>1.000000</td>\n",
       "      <td>41850.000000</td>\n",
       "    </tr>\n",
       "    <tr>\n",
       "      <th>75%</th>\n",
       "      <td>187.000000</td>\n",
       "      <td>3.000000</td>\n",
       "      <td>3.000000</td>\n",
       "      <td>4.000000</td>\n",
       "      <td>1.000000</td>\n",
       "      <td>1.000000</td>\n",
       "      <td>1.000000</td>\n",
       "      <td>1.000000</td>\n",
       "      <td>3.000000</td>\n",
       "      <td>1.000000</td>\n",
       "      <td>1.00000</td>\n",
       "      <td>1.000000</td>\n",
       "      <td>1.00000</td>\n",
       "      <td>1.000000</td>\n",
       "      <td>1.000000</td>\n",
       "      <td>50750.000000</td>\n",
       "    </tr>\n",
       "    <tr>\n",
       "      <th>max</th>\n",
       "      <td>249.000000</td>\n",
       "      <td>3.000000</td>\n",
       "      <td>4.000000</td>\n",
       "      <td>5.000000</td>\n",
       "      <td>1.000000</td>\n",
       "      <td>1.000000</td>\n",
       "      <td>1.000000</td>\n",
       "      <td>1.000000</td>\n",
       "      <td>3.000000</td>\n",
       "      <td>1.000000</td>\n",
       "      <td>1.00000</td>\n",
       "      <td>1.000000</td>\n",
       "      <td>1.00000</td>\n",
       "      <td>1.000000</td>\n",
       "      <td>1.000000</td>\n",
       "      <td>77975.000000</td>\n",
       "    </tr>\n",
       "  </tbody>\n",
       "</table>\n",
       "</div>"
      ],
      "text/plain": [
       "                Area         Garage      FirePlace          Baths  \\\n",
       "count  500000.000000  500000.000000  500000.000000  500000.000000   \n",
       "mean      124.929554       2.001290       2.003398       2.998074   \n",
       "std        71.795363       0.817005       1.414021       1.414227   \n",
       "min         1.000000       1.000000       0.000000       1.000000   \n",
       "25%        63.000000       1.000000       1.000000       2.000000   \n",
       "50%       125.000000       2.000000       2.000000       3.000000   \n",
       "75%       187.000000       3.000000       3.000000       4.000000   \n",
       "max       249.000000       3.000000       4.000000       5.000000   \n",
       "\n",
       "        White Marble   Black Marble  Indian Marble         Floors  \\\n",
       "count  500000.000000  500000.000000  500000.000000  500000.000000   \n",
       "mean        0.332992       0.332690       0.334318       0.499386   \n",
       "std         0.471284       0.471177       0.471752       0.500000   \n",
       "min         0.000000       0.000000       0.000000       0.000000   \n",
       "25%         0.000000       0.000000       0.000000       0.000000   \n",
       "50%         0.000000       0.000000       0.000000       0.000000   \n",
       "75%         1.000000       1.000000       1.000000       1.000000   \n",
       "max         1.000000       1.000000       1.000000       1.000000   \n",
       "\n",
       "                City          Solar      Electric          Fiber  \\\n",
       "count  500000.000000  500000.000000  500000.00000  500000.000000   \n",
       "mean        2.000940       0.498694       0.50065       0.500468   \n",
       "std         0.816209       0.499999       0.50000       0.500000   \n",
       "min         1.000000       0.000000       0.00000       0.000000   \n",
       "25%         1.000000       0.000000       0.00000       0.000000   \n",
       "50%         2.000000       0.000000       1.00000       1.000000   \n",
       "75%         3.000000       1.000000       1.00000       1.000000   \n",
       "max         3.000000       1.000000       1.00000       1.000000   \n",
       "\n",
       "        Glass Doors   Swiming Pool         Garden         Prices  \n",
       "count  500000.00000  500000.000000  500000.000000  500000.000000  \n",
       "mean        0.49987       0.500436       0.501646   42050.139350  \n",
       "std         0.50000       0.500000       0.499998   12110.237201  \n",
       "min         0.00000       0.000000       0.000000    7725.000000  \n",
       "25%         0.00000       0.000000       0.000000   33500.000000  \n",
       "50%         0.00000       1.000000       1.000000   41850.000000  \n",
       "75%         1.00000       1.000000       1.000000   50750.000000  \n",
       "max         1.00000       1.000000       1.000000   77975.000000  "
      ]
     },
     "execution_count": 4,
     "metadata": {},
     "output_type": "execute_result"
    }
   ],
   "source": [
    "data.describe()"
   ]
  },
  {
   "cell_type": "markdown",
   "id": "infrared-impossible",
   "metadata": {},
   "source": [
    "# Features selection for model\n",
    "<p> Here the Prices are target all other colums are featurs "
   ]
  },
  {
   "cell_type": "code",
   "execution_count": 5,
   "id": "cross-equation",
   "metadata": {
    "scrolled": true
   },
   "outputs": [
    {
     "data": {
      "text/html": [
       "<div>\n",
       "<style scoped>\n",
       "    .dataframe tbody tr th:only-of-type {\n",
       "        vertical-align: middle;\n",
       "    }\n",
       "\n",
       "    .dataframe tbody tr th {\n",
       "        vertical-align: top;\n",
       "    }\n",
       "\n",
       "    .dataframe thead th {\n",
       "        text-align: right;\n",
       "    }\n",
       "</style>\n",
       "<table border=\"1\" class=\"dataframe\">\n",
       "  <thead>\n",
       "    <tr style=\"text-align: right;\">\n",
       "      <th></th>\n",
       "      <th>Area</th>\n",
       "      <th>Garage</th>\n",
       "      <th>FirePlace</th>\n",
       "      <th>Baths</th>\n",
       "      <th>White Marble</th>\n",
       "      <th>Black Marble</th>\n",
       "      <th>Indian Marble</th>\n",
       "      <th>Floors</th>\n",
       "      <th>City</th>\n",
       "      <th>Solar</th>\n",
       "      <th>Electric</th>\n",
       "      <th>Fiber</th>\n",
       "      <th>Glass Doors</th>\n",
       "      <th>Swiming Pool</th>\n",
       "      <th>Garden</th>\n",
       "    </tr>\n",
       "  </thead>\n",
       "  <tbody>\n",
       "    <tr>\n",
       "      <th>0</th>\n",
       "      <td>164</td>\n",
       "      <td>2</td>\n",
       "      <td>0</td>\n",
       "      <td>2</td>\n",
       "      <td>0</td>\n",
       "      <td>1</td>\n",
       "      <td>0</td>\n",
       "      <td>0</td>\n",
       "      <td>3</td>\n",
       "      <td>1</td>\n",
       "      <td>1</td>\n",
       "      <td>1</td>\n",
       "      <td>1</td>\n",
       "      <td>0</td>\n",
       "      <td>0</td>\n",
       "    </tr>\n",
       "    <tr>\n",
       "      <th>1</th>\n",
       "      <td>84</td>\n",
       "      <td>2</td>\n",
       "      <td>0</td>\n",
       "      <td>4</td>\n",
       "      <td>0</td>\n",
       "      <td>0</td>\n",
       "      <td>1</td>\n",
       "      <td>1</td>\n",
       "      <td>2</td>\n",
       "      <td>0</td>\n",
       "      <td>0</td>\n",
       "      <td>0</td>\n",
       "      <td>1</td>\n",
       "      <td>1</td>\n",
       "      <td>1</td>\n",
       "    </tr>\n",
       "    <tr>\n",
       "      <th>2</th>\n",
       "      <td>190</td>\n",
       "      <td>2</td>\n",
       "      <td>4</td>\n",
       "      <td>4</td>\n",
       "      <td>1</td>\n",
       "      <td>0</td>\n",
       "      <td>0</td>\n",
       "      <td>0</td>\n",
       "      <td>2</td>\n",
       "      <td>0</td>\n",
       "      <td>0</td>\n",
       "      <td>1</td>\n",
       "      <td>0</td>\n",
       "      <td>0</td>\n",
       "      <td>0</td>\n",
       "    </tr>\n",
       "    <tr>\n",
       "      <th>3</th>\n",
       "      <td>75</td>\n",
       "      <td>2</td>\n",
       "      <td>4</td>\n",
       "      <td>4</td>\n",
       "      <td>0</td>\n",
       "      <td>0</td>\n",
       "      <td>1</td>\n",
       "      <td>1</td>\n",
       "      <td>1</td>\n",
       "      <td>1</td>\n",
       "      <td>1</td>\n",
       "      <td>1</td>\n",
       "      <td>1</td>\n",
       "      <td>1</td>\n",
       "      <td>1</td>\n",
       "    </tr>\n",
       "    <tr>\n",
       "      <th>4</th>\n",
       "      <td>148</td>\n",
       "      <td>1</td>\n",
       "      <td>4</td>\n",
       "      <td>2</td>\n",
       "      <td>1</td>\n",
       "      <td>0</td>\n",
       "      <td>0</td>\n",
       "      <td>1</td>\n",
       "      <td>2</td>\n",
       "      <td>1</td>\n",
       "      <td>0</td>\n",
       "      <td>0</td>\n",
       "      <td>1</td>\n",
       "      <td>1</td>\n",
       "      <td>1</td>\n",
       "    </tr>\n",
       "  </tbody>\n",
       "</table>\n",
       "</div>"
      ],
      "text/plain": [
       "   Area  Garage  FirePlace  Baths  White Marble  Black Marble  Indian Marble  \\\n",
       "0   164       2          0      2             0             1              0   \n",
       "1    84       2          0      4             0             0              1   \n",
       "2   190       2          4      4             1             0              0   \n",
       "3    75       2          4      4             0             0              1   \n",
       "4   148       1          4      2             1             0              0   \n",
       "\n",
       "   Floors  City  Solar  Electric  Fiber  Glass Doors  Swiming Pool  Garden  \n",
       "0       0     3      1         1      1            1             0       0  \n",
       "1       1     2      0         0      0            1             1       1  \n",
       "2       0     2      0         0      1            0             0       0  \n",
       "3       1     1      1         1      1            1             1       1  \n",
       "4       1     2      1         0      0            1             1       1  "
      ]
     },
     "execution_count": 5,
     "metadata": {},
     "output_type": "execute_result"
    }
   ],
   "source": [
    "x=data[['Area', 'Garage', 'FirePlace', 'Baths', 'White Marble', 'Black Marble',\n",
    "       'Indian Marble', 'Floors', 'City', 'Solar', 'Electric', 'Fiber',\n",
    "       'Glass Doors', 'Swiming Pool', 'Garden']]\n",
    "\n",
    "x.head()\n"
   ]
  },
  {
   "cell_type": "code",
   "execution_count": 8,
   "id": "physical-button",
   "metadata": {},
   "outputs": [
    {
     "data": {
      "text/html": [
       "<div>\n",
       "<style scoped>\n",
       "    .dataframe tbody tr th:only-of-type {\n",
       "        vertical-align: middle;\n",
       "    }\n",
       "\n",
       "    .dataframe tbody tr th {\n",
       "        vertical-align: top;\n",
       "    }\n",
       "\n",
       "    .dataframe thead th {\n",
       "        text-align: right;\n",
       "    }\n",
       "</style>\n",
       "<table border=\"1\" class=\"dataframe\">\n",
       "  <thead>\n",
       "    <tr style=\"text-align: right;\">\n",
       "      <th></th>\n",
       "      <th>Prices</th>\n",
       "    </tr>\n",
       "  </thead>\n",
       "  <tbody>\n",
       "    <tr>\n",
       "      <th>0</th>\n",
       "      <td>43800</td>\n",
       "    </tr>\n",
       "    <tr>\n",
       "      <th>1</th>\n",
       "      <td>37550</td>\n",
       "    </tr>\n",
       "    <tr>\n",
       "      <th>2</th>\n",
       "      <td>49500</td>\n",
       "    </tr>\n",
       "    <tr>\n",
       "      <th>3</th>\n",
       "      <td>50075</td>\n",
       "    </tr>\n",
       "    <tr>\n",
       "      <th>4</th>\n",
       "      <td>52400</td>\n",
       "    </tr>\n",
       "  </tbody>\n",
       "</table>\n",
       "</div>"
      ],
      "text/plain": [
       "   Prices\n",
       "0   43800\n",
       "1   37550\n",
       "2   49500\n",
       "3   50075\n",
       "4   52400"
      ]
     },
     "execution_count": 8,
     "metadata": {},
     "output_type": "execute_result"
    }
   ],
   "source": [
    "y=data[['Prices']]\n",
    "y.head()"
   ]
  },
  {
   "cell_type": "markdown",
   "id": "treated-homework",
   "metadata": {},
   "source": [
    "# Adding a bias vector "
   ]
  },
  {
   "cell_type": "code",
   "execution_count": 6,
   "id": "confused-stand",
   "metadata": {},
   "outputs": [],
   "source": [
    "m=x.shape[0]\n",
    "a=np.ones((m,1))\n",
    "x.insert(0,\"onces\",a)\n"
   ]
  },
  {
   "cell_type": "markdown",
   "id": "logical-armstrong",
   "metadata": {},
   "source": [
    "# Spliting data in train and test set"
   ]
  },
  {
   "cell_type": "code",
   "execution_count": 9,
   "id": "virtual-serial",
   "metadata": {},
   "outputs": [
    {
     "name": "stdout",
     "output_type": "stream",
     "text": [
      "Train set (450000, 16) (450000, 1)\n",
      "Test set (50000, 16) (50000, 1)\n"
     ]
    }
   ],
   "source": [
    "x_train,x_test,y_train,y_test = train_test_split(x,y,test_size=0.1)\n",
    "print('Train set',x_train.shape,y_train.shape)\n",
    "print('Test set',x_test.shape,y_test.shape)"
   ]
  },
  {
   "cell_type": "markdown",
   "id": "altered-relief",
   "metadata": {},
   "source": [
    "# chossing algoritm for model"
   ]
  },
  {
   "cell_type": "code",
   "execution_count": 10,
   "id": "simple-principal",
   "metadata": {},
   "outputs": [],
   "source": [
    "model=linear_model.LinearRegression()\n",
    "train_x=np.asanyarray(x_train)\n",
    "train_y=np.asanyarray(y_train)\n",
    "\n"
   ]
  },
  {
   "cell_type": "markdown",
   "id": "systematic-bride",
   "metadata": {},
   "source": [
    "# changing data type of train_x,y and test_x,y"
   ]
  },
  {
   "cell_type": "code",
   "execution_count": 11,
   "id": "occupational-teach",
   "metadata": {},
   "outputs": [
    {
     "data": {
      "text/plain": [
       "array([[  1., 244.,   2.,   1.,   1.,   0.,   1.,   0.,   1.,   2.,   0.,\n",
       "          1.,   1.,   1.,   0.,   0.],\n",
       "       [  1., 205.,   3.,   3.,   3.,   0.,   0.,   1.,   1.,   2.,   0.,\n",
       "          1.,   1.,   0.,   0.,   1.],\n",
       "       [  1.,  65.,   2.,   2.,   3.,   0.,   1.,   0.,   0.,   1.,   0.,\n",
       "          0.,   1.,   0.,   1.,   1.],\n",
       "       [  1.,  57.,   3.,   2.,   4.,   1.,   0.,   0.,   1.,   3.,   0.,\n",
       "          1.,   1.,   0.,   1.,   1.],\n",
       "       [  1., 194.,   3.,   4.,   1.,   1.,   0.,   0.,   1.,   1.,   1.,\n",
       "          0.,   0.,   1.,   1.,   0.]])"
      ]
     },
     "execution_count": 11,
     "metadata": {},
     "output_type": "execute_result"
    }
   ],
   "source": [
    "train_x=np.asanyarray(x_train)\n",
    "train_y=np.asanyarray(y_train)\n",
    "test_x=np.asanyarray(x_test)\n",
    "test_y=np.asanyarray(y_test)\n",
    "train_x[0:5]"
   ]
  },
  {
   "cell_type": "code",
   "execution_count": 13,
   "id": "seven-interval",
   "metadata": {},
   "outputs": [
    {
     "data": {
      "text/plain": [
       "LinearRegression()"
      ]
     },
     "execution_count": 13,
     "metadata": {},
     "output_type": "execute_result"
    }
   ],
   "source": [
    "model.fit(train_x,train_y)"
   ]
  },
  {
   "cell_type": "markdown",
   "id": "indirect-masters",
   "metadata": {},
   "source": [
    "# Model evaluation"
   ]
  },
  {
   "cell_type": "markdown",
   "id": "extra-armor",
   "metadata": {},
   "source": [
    "<h3> Model accuary </h3>"
   ]
  },
  {
   "cell_type": "code",
   "execution_count": 14,
   "id": "experienced-depth",
   "metadata": {},
   "outputs": [
    {
     "name": "stdout",
     "output_type": "stream",
     "text": [
      "accuracy of traning set: 100.0 %\n",
      "accuracy of testing set: 100.0 %\n"
     ]
    }
   ],
   "source": [
    "y_predict_test=model.predict(test_x)\n",
    "y_predict_train=model.predict(train_x)\n",
    "print('accuracy of traning set: {} %'.format(r2_score(y_predict_train, y_train)*100) )\n",
    "\n",
    "\n",
    "print('accuracy of testing set: {} %'.format( r2_score(y_predict_test, y_test)*100))\n"
   ]
  },
  {
   "cell_type": "markdown",
   "id": "powerful-class",
   "metadata": {},
   "source": [
    "<h3>MSE and MAE Errror calculation</h3>"
   ]
  },
  {
   "cell_type": "code",
   "execution_count": 15,
   "id": "mighty-cylinder",
   "metadata": {},
   "outputs": [
    {
     "name": "stdout",
     "output_type": "stream",
     "text": [
      "Mean absolute error of training set: 0.00\n",
      "Mean absolute error of testing set : 0.00\n"
     ]
    }
   ],
   "source": [
    "print('Mean absolute error of training set: %.2f'% np.mean(np.absolute(y_predict_train - y_train)))\n",
    "print('Mean absolute error of testing set : %.2f'% np.mean(np.absolute(y_predict_test - y_test)))"
   ]
  },
  {
   "cell_type": "code",
   "execution_count": 17,
   "id": "coral-salmon",
   "metadata": {},
   "outputs": [
    {
     "name": "stdout",
     "output_type": "stream",
     "text": [
      "Mean Squared Error of training set : 0.00\n",
      "Mean Squared Error of testing set : 0.00\n"
     ]
    }
   ],
   "source": [
    "print('Mean Squared Error of training set : %.2f' %mean_squared_error(y_train,y_predict_train))\n",
    "print('Mean Squared Error of testing set : %.2f' %mean_squared_error(y_test,y_predict_test))"
   ]
  }
 ],
 "metadata": {
  "kernelspec": {
   "display_name": "Python 3",
   "language": "python",
   "name": "python3"
  },
  "language_info": {
   "codemirror_mode": {
    "name": "ipython",
    "version": 3
   },
   "file_extension": ".py",
   "mimetype": "text/x-python",
   "name": "python",
   "nbconvert_exporter": "python",
   "pygments_lexer": "ipython3",
   "version": "3.8.7"
  }
 },
 "nbformat": 4,
 "nbformat_minor": 5
}
